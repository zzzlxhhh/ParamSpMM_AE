{
 "cells": [
  {
   "cell_type": "code",
   "execution_count": 1,
   "metadata": {},
   "outputs": [],
   "source": [
    "import pandas as pd\n",
    "import numpy as np\n"
   ]
  },
  {
   "cell_type": "code",
   "execution_count": 2,
   "metadata": {},
   "outputs": [],
   "source": [
    "def _get_mtxfeature(data):\n",
    "    '''Get the matrix feature '''\n",
    "    # print(data.columns)\n",
    "    feature = data.drop(['mtx_name', 'OP_SpMM'], axis=1)\n",
    "    np_feature = feature.values\n",
    "    # print(np_feature.shape)\n",
    "    return np_feature\n",
    "\n",
    "\n",
    "def _get_label(data):\n",
    "    '''Get the label of the data'''\n",
    "    label = data['OP_SpMM']\n",
    "    np_label = label.values\n",
    "    return np_label\n",
    "\n",
    "\n",
    "def _get_feature_names(data):\n",
    "    '''feature name'''\n",
    "    np_fnames = data.columns[1:-1].values\n",
    "    return np_fnames\n",
    "\n",
    "\n",
    "def _get_target_names(data):\n",
    "    '''SpMM method name'''\n",
    "    tnames = data.iloc[0].values\n",
    "    return tnames"
   ]
  },
  {
   "cell_type": "code",
   "execution_count": 3,
   "metadata": {},
   "outputs": [],
   "source": [
    "from sklearn.utils import Bunch\n",
    "\n",
    "\n",
    "def load_mtx(csv_path=\"../ParamSpMM-log/\", mask=None, dim=16):\n",
    "    train_data_csv = pd.read_csv(csv_path + \"dim\" + str(dim) + \"_OP_SpMM.csv\")\n",
    "    bench_data_csv = pd.read_csv(csv_path + \"dim\" + str(dim) + \".csv\")\n",
    "    if mask is not None:\n",
    "        train_data_csv = train_data_csv[mask]\n",
    "        bench_data_csv = bench_data_csv[mask]\n",
    "    mtx = Bunch()\n",
    "    mtx.feature = _get_mtxfeature(train_data_csv)\n",
    "    mtx.label = _get_label(train_data_csv)\n",
    "    mtx.fnames = _get_feature_names(train_data_csv)\n",
    "    mtx.tnames = _get_target_names(bench_data_csv)\n",
    "    return mtx"
   ]
  },
  {
   "cell_type": "code",
   "execution_count": 4,
   "metadata": {},
   "outputs": [],
   "source": [
    "from sklearn.ensemble import RandomForestClassifier\n",
    "from sklearn.tree import DecisionTreeClassifier\n",
    "from sklearn.model_selection import train_test_split\n",
    "from sklearn.tree import export_graphviz\n",
    "\n",
    "\n",
    "def rnd_tree_model(dim, n_estimators=30, random_state=17, importance=False):\n",
    "    # load data\n",
    "    mtx_data = load_mtx(dim=dim)\n",
    "    # dataset split\n",
    "    X_train, X_test, y_train, y_test = train_test_split(\n",
    "        mtx_data.feature, mtx_data.label, test_size=0.2, random_state=random_state\n",
    "    )\n",
    "    # create model\n",
    "    rnd = RandomForestClassifier(n_estimators=n_estimators, n_jobs=-1, random_state=random_state)\n",
    "    # train model\n",
    "    rnd.fit(X_train, y_train)\n",
    "    # test model\n",
    "    score = rnd.score(X_test, y_test)\n",
    "    print(\"Test score:\", score)\n",
    "    # feature importance\n",
    "    if importance:\n",
    "        for score, name in zip(rnd.feature_importances_, mtx_data.fnames):\n",
    "            print(round(score, 2), name)\n",
    "    return rnd"
   ]
  },
  {
   "cell_type": "code",
   "execution_count": 5,
   "metadata": {},
   "outputs": [],
   "source": [
    "import math\n",
    "\n",
    "\n",
    "def performance_loss(rnd_tree, csv_path, dim, random_state=17):\n",
    "    data = np.ones((202, 1))\n",
    "    data_label = np.arange(202)\n",
    "    # get test set\n",
    "    X_train, X_test, y_train, y_test = train_test_split(\n",
    "        data, data_label, test_size=0.2, random_state=random_state\n",
    "    )\n",
    "    mask = np.ones(len(data_label), dtype=bool)\n",
    "    mask[y_test] = False\n",
    "    mask = ~mask\n",
    "\n",
    "    mtx_data = load_mtx(csv_path=csv_path, dim=dim, mask=mask)\n",
    "    tp = pd.read_csv(csv_path + \"dim\" + str(dim) + \".csv\")[mask]\n",
    "    predict = rnd_tree.predict(mtx_data.feature)\n",
    "    # cal the performance loss\n",
    "    lable = mtx_data.label\n",
    "    mask = predict != lable\n",
    "    # optimal performance\n",
    "    op_tp = pd.DataFrame(tp.max(axis=1, numeric_only=True))\n",
    "    # optimal performance of wrong predict\n",
    "    mask_op = op_tp.values[mask]\n",
    "    error_num = mask.sum()\n",
    "    mask_tp = tp.values[mask]\n",
    "    mask_predict = predict[mask]\n",
    "    predict_tp = mask_tp[np.arange(error_num), mask_predict].reshape(-1, 1)\n",
    "    loss = (mask_op - predict_tp) / mask_op\n",
    "    # test data size\n",
    "    test_size = lable.shape[0]\n",
    "    loss = loss.sum() / test_size\n",
    "    print(\"dim{} Wrong number{} in {}\".format(dim, error_num, test_size))\n",
    "    print(\"Average normalized performance: \", 1 - loss)\n",
    "\n",
    "\n",
    "def eval_performance_loss(dim, csv_path=\"./\"):\n",
    "    if dim % 32 == 0:\n",
    "        approx_dim = dim\n",
    "    else:\n",
    "        approx_dim = (math.ceil(dim / 32) * 2 - 1) * 16\n",
    "    pickle_path = \"../../\" + \"rnd_tree_\" + str(approx_dim) + \".pkl\"\n",
    "    rnd_tree = pickle.load(open(pickle_path, \"rb\"))\n",
    "    performance_loss(rnd_tree, csv_path, dim)"
   ]
  },
  {
   "cell_type": "code",
   "execution_count": 6,
   "metadata": {},
   "outputs": [],
   "source": [
    "# speedup of ParamSpMM(with SpMM-decider) and baseline libraries over cusparse\n",
    "def performance_spd(rnd_tree, dim):\n",
    "    mtx_data = load_mtx(dim=dim)\n",
    "    tp = pd.read_csv(\"../ParamSpMM-log/dim\" + str(dim) + \".csv\")\n",
    "    predict = rnd_tree.predict(mtx_data.feature)\n",
    "    all_predict_tp = tp.values[np.arange(predict.shape[0]), predict].reshape(-1, 1)\n",
    "    # cal the performance loss\n",
    "    lable = mtx_data.label\n",
    "    mask = predict != lable\n",
    "    # optimal performance\n",
    "    op_tp = pd.DataFrame(tp.max(axis=1, numeric_only=True))\n",
    "    # optimal performance of wrong predict\n",
    "    mask_op = op_tp.values[mask]\n",
    "    error_num = mask.sum()\n",
    "    mask_tp = tp.values[mask]\n",
    "    mask_predict = predict[mask]\n",
    "    predict_tp = mask_tp[np.arange(error_num), mask_predict].reshape(-1, 1)\n",
    "    loss = (mask_op - predict_tp) / mask_op\n",
    "    # test data size\n",
    "    test_size = lable.shape[0] * 0.2\n",
    "    loss = loss.sum() / test_size\n",
    "    # print(\"Wrong number{} in {}\", error_num, test_size)\n",
    "    # print(\"Loss: \", loss)\n",
    "    # read baseline throughput of cusparse and gespmm\n",
    "    baseline = pd.read_csv(\"../ParamSpMM-log/dim\" + str(dim) + \"_baseline.csv\")   \n",
    "    # cal speedup\n",
    "    speedup = {}\n",
    "    speedup[\"ParamSpMM\"] = all_predict_tp[:, 0] / baseline[\"cusparse\"]\n",
    "\n",
    "    average_speedup = pd.DataFrame(speedup[\"ParamSpMM\"]).mean()\n",
    "    print(\"Average speedup of ParamSpMM over cusparse: \", average_speedup.values[0])\n",
    "    # geomean\n",
    "    "
   ]
  },
  {
   "cell_type": "code",
   "execution_count": 7,
   "metadata": {},
   "outputs": [
    {
     "name": "stdout",
     "output_type": "stream",
     "text": [
      "Test score: 0.7804878048780488\n",
      "Average speedup of ParamSpMM over cusparse:  2.6751854127874926\n",
      "dim16 Wrong number9 in 41\n",
      "Average normalized performance:  0.9883858115447461\n"
     ]
    }
   ],
   "source": [
    "import _pickle as pickle\n",
    "pkl_rnd_tree_16_file = \"./rnd_tree_16.pkl\"\n",
    "rnd_tree_16 = rnd_tree_model(dim = 16, n_estimators=30, random_state=17)\n",
    "performance_spd(rnd_tree_16, dim = 16)\n",
    "performance_loss(rnd_tree_16, csv_path=\"../ParamSpMM-log/\", dim = 16)\n",
    "with open(pkl_rnd_tree_16_file, 'wb') as f:\n",
    "    pickle.dump(rnd_tree_16, f)\n"
   ]
  },
  {
   "cell_type": "code",
   "execution_count": 8,
   "metadata": {},
   "outputs": [
    {
     "name": "stdout",
     "output_type": "stream",
     "text": [
      "Test score: 0.6341463414634146\n",
      "Average speedup of ParamSpMM over cusparse:  2.0669385560292755\n",
      "dim32 Wrong number15 in 41\n",
      "Average normalized performance:  0.9851043390686124\n"
     ]
    }
   ],
   "source": [
    "\n",
    "pkl_rnd_tree_32_file = \"./rnd_tree_32.pkl\"\n",
    "rnd_tree_32 = rnd_tree_model(dim = 32, n_estimators=50, random_state=7)\n",
    "performance_spd(rnd_tree_32, dim = 32)\n",
    "performance_loss(rnd_tree_32, csv_path=\"../ParamSpMM-log/\", dim = 32, random_state=7)\n",
    "with open(pkl_rnd_tree_32_file, 'wb') as f:\n",
    "    pickle.dump(rnd_tree_32, f)"
   ]
  },
  {
   "cell_type": "code",
   "execution_count": 27,
   "metadata": {},
   "outputs": [
    {
     "name": "stdout",
     "output_type": "stream",
     "text": [
      "Test score: 0.7560975609756098\n",
      "Average speedup of ParamSpMM over cusparse:  1.7331437411639568\n",
      "dim48 Wrong number10 in 41\n",
      "Average normalized performance:  0.9982753081816599\n"
     ]
    }
   ],
   "source": [
    "pkl_rnd_tree_48_file = \"./rnd_tree_48.pkl\"\n",
    "rnd_tree_48 = rnd_tree_model(dim = 48, n_estimators=80, random_state=7)\n",
    "performance_spd(rnd_tree_48, dim = 48)\n",
    "performance_loss(rnd_tree_48, csv_path=\"../ParamSpMM-log/\", dim = 48, random_state=7)\n",
    "with open(pkl_rnd_tree_48_file, 'wb') as f:\n",
    "    pickle.dump(rnd_tree_48, f)"
   ]
  },
  {
   "cell_type": "code",
   "execution_count": 10,
   "metadata": {},
   "outputs": [
    {
     "name": "stdout",
     "output_type": "stream",
     "text": [
      "Test score: 0.7073170731707317\n",
      "Average speedup of ParamSpMM over cusparse:  1.8114762867942442\n",
      "dim64 Wrong number12 in 41\n",
      "Average normalized performance:  0.9824215278847933\n"
     ]
    }
   ],
   "source": [
    "pkl_rnd_tree_64_file = \"./rnd_tree_64.pkl\"\n",
    "rnd_tree_64 = rnd_tree_model(dim = 64, n_estimators=80, random_state=17) #50\n",
    "performance_spd(rnd_tree_64, dim = 64)\n",
    "performance_loss(rnd_tree_64, csv_path=\"../ParamSpMM-log/\", dim = 64)\n",
    "with open(pkl_rnd_tree_64_file, 'wb') as f:\n",
    "    pickle.dump(rnd_tree_64, f)"
   ]
  },
  {
   "cell_type": "code",
   "execution_count": 11,
   "metadata": {},
   "outputs": [
    {
     "name": "stdout",
     "output_type": "stream",
     "text": [
      "Test score: 0.8780487804878049\n",
      "Average speedup of ParamSpMM over cusparse:  1.767991611198476\n",
      "dim80 Wrong number5 in 41\n",
      "Average normalized performance:  0.9997360101304388\n"
     ]
    }
   ],
   "source": [
    "pkl_rnd_tree_80_file = \"./rnd_tree_80.pkl\"\n",
    "rnd_tree_80 = rnd_tree_model(dim = 80, n_estimators=80, random_state=17)\n",
    "performance_spd(rnd_tree_80, dim = 80)\n",
    "performance_loss(rnd_tree_80, csv_path=\"../ParamSpMM-log/\", dim = 80)\n",
    "with open(pkl_rnd_tree_80_file, 'wb') as f:\n",
    "    pickle.dump(rnd_tree_80, f)"
   ]
  },
  {
   "cell_type": "code",
   "execution_count": 12,
   "metadata": {},
   "outputs": [
    {
     "name": "stdout",
     "output_type": "stream",
     "text": [
      "Test score: 0.8536585365853658\n",
      "Average speedup of ParamSpMM over cusparse:  1.8975904847192455\n",
      "dim96 Wrong number6 in 41\n",
      "Average normalized performance:  0.9955133267107091\n"
     ]
    }
   ],
   "source": [
    "pkl_rnd_tree_96_file = \"./rnd_tree_96.pkl\"\n",
    "rnd_tree_96 = rnd_tree_model(dim = 96, n_estimators=80, random_state=17)\n",
    "performance_spd(rnd_tree_96, dim = 96)\n",
    "performance_loss(rnd_tree_96, csv_path=\"../ParamSpMM-log/\", dim = 96)\n",
    "with open(pkl_rnd_tree_96_file, 'wb') as f:\n",
    "    pickle.dump(rnd_tree_96, f)"
   ]
  },
  {
   "cell_type": "code",
   "execution_count": 13,
   "metadata": {},
   "outputs": [
    {
     "name": "stdout",
     "output_type": "stream",
     "text": [
      "Test score: 0.7073170731707317\n",
      "Average speedup of ParamSpMM over cusparse:  1.843144783902165\n",
      "dim112 Wrong number12 in 41\n",
      "Average normalized performance:  0.9931178123315184\n"
     ]
    }
   ],
   "source": [
    "pkl_rnd_tree_112_file = \"./rnd_tree_112.pkl\"\n",
    "rnd_tree_112 = rnd_tree_model(dim = 112, n_estimators=80, random_state=17)\n",
    "performance_spd(rnd_tree_112, dim = 112)\n",
    "performance_loss(rnd_tree_112, csv_path=\"../ParamSpMM-log/\", dim = 112)\n",
    "with open(pkl_rnd_tree_112_file, 'wb') as f:\n",
    "    pickle.dump(rnd_tree_112, f)"
   ]
  },
  {
   "cell_type": "code",
   "execution_count": 14,
   "metadata": {},
   "outputs": [
    {
     "name": "stdout",
     "output_type": "stream",
     "text": [
      "Test score: 0.7073170731707317\n",
      "Average speedup of ParamSpMM over cusparse:  1.9671087158319827\n",
      "dim128 Wrong number12 in 41\n",
      "Average normalized performance:  0.9929905770908214\n"
     ]
    }
   ],
   "source": [
    "pkl_rnd_tree_128_file = \"./rnd_tree_128.pkl\"\n",
    "rnd_tree_128 = rnd_tree_model(dim = 128, n_estimators=30, random_state=17)\n",
    "performance_spd(rnd_tree_128, dim = 128)\n",
    "performance_loss(rnd_tree_128, csv_path=\"../ParamSpMM-log/\", dim = 128)\n",
    "with open(pkl_rnd_tree_128_file, 'wb') as f:\n",
    "    pickle.dump(rnd_tree_128, f)"
   ]
  },
  {
   "cell_type": "code",
   "execution_count": 15,
   "metadata": {},
   "outputs": [
    {
     "name": "stdout",
     "output_type": "stream",
     "text": [
      "Test score: 0.8780487804878049\n",
      "Average speedup of ParamSpMM over cusparse:  2.003422847450495\n",
      "dim144 Wrong number5 in 41\n",
      "Average normalized performance:  0.9928413813979304\n"
     ]
    }
   ],
   "source": [
    "pkl_rnd_tree_144_file = \"./rnd_tree_144.pkl\"\n",
    "rnd_tree_144 = rnd_tree_model(dim = 144, n_estimators=30, random_state=17)\n",
    "performance_spd(rnd_tree_144, dim = 144)\n",
    "performance_loss(rnd_tree_144, csv_path=\"../ParamSpMM-log/\", dim = 144)\n",
    "with open(pkl_rnd_tree_144_file, 'wb') as f:\n",
    "    pickle.dump(rnd_tree_144, f)"
   ]
  },
  {
   "cell_type": "code",
   "execution_count": 16,
   "metadata": {},
   "outputs": [
    {
     "name": "stdout",
     "output_type": "stream",
     "text": [
      "Test score: 0.8780487804878049\n",
      "Average speedup of ParamSpMM over cusparse:  1.9033393393599127\n",
      "dim160 Wrong number5 in 41\n",
      "Average normalized performance:  0.9973749845796686\n"
     ]
    }
   ],
   "source": [
    "pkl_rnd_tree_160_file = \"./rnd_tree_160.pkl\"\n",
    "rnd_tree_160 = rnd_tree_model(dim = 160, n_estimators=50, random_state=17)\n",
    "performance_spd(rnd_tree_160, dim = 160)\n",
    "performance_loss(rnd_tree_160, csv_path=\"../ParamSpMM-log/\", dim = 160)\n",
    "with open(pkl_rnd_tree_160_file, 'wb') as f:\n",
    "    pickle.dump(rnd_tree_160, f)"
   ]
  },
  {
   "cell_type": "code",
   "execution_count": 17,
   "metadata": {},
   "outputs": [
    {
     "name": "stdout",
     "output_type": "stream",
     "text": [
      "Test score: 0.7317073170731707\n",
      "Average speedup of ParamSpMM over cusparse:  1.877301333678809\n",
      "dim176 Wrong number11 in 41\n",
      "Average normalized performance:  0.9920806916796939\n"
     ]
    }
   ],
   "source": [
    "pkl_rnd_tree_176_file = \"./rnd_tree_176.pkl\"\n",
    "rnd_tree_176 = rnd_tree_model(dim = 176, n_estimators=30, random_state=17)\n",
    "performance_spd(rnd_tree_176, dim = 176)\n",
    "performance_loss(rnd_tree_176, csv_path=\"../ParamSpMM-log/\", dim = 176)\n",
    "with open(pkl_rnd_tree_176_file, 'wb') as f:\n",
    "    pickle.dump(rnd_tree_176, f)"
   ]
  },
  {
   "cell_type": "code",
   "execution_count": 18,
   "metadata": {},
   "outputs": [
    {
     "name": "stdout",
     "output_type": "stream",
     "text": [
      "Test score: 0.7073170731707317\n",
      "Average speedup of ParamSpMM over cusparse:  1.8732940336041044\n",
      "dim192 Wrong number12 in 41\n",
      "Average normalized performance:  0.9896369488751348\n"
     ]
    }
   ],
   "source": [
    "pkl_rnd_tree_192_file = \"./rnd_tree_192.pkl\"\n",
    "rnd_tree_192 = rnd_tree_model(dim = 192, n_estimators=30, random_state=17)\n",
    "performance_spd(rnd_tree_192, dim = 192)\n",
    "performance_loss(rnd_tree_192, csv_path=\"../ParamSpMM-log/\", dim = 192)\n",
    "with open(pkl_rnd_tree_192_file, 'wb') as f:\n",
    "    pickle.dump(rnd_tree_192, f)"
   ]
  },
  {
   "cell_type": "code",
   "execution_count": 19,
   "metadata": {},
   "outputs": [
    {
     "name": "stdout",
     "output_type": "stream",
     "text": [
      "Test score: 0.9024390243902439\n",
      "Average speedup of ParamSpMM over cusparse:  1.7694193201579493\n",
      "dim208 Wrong number4 in 41\n",
      "Average normalized performance:  0.9929091574405505\n"
     ]
    }
   ],
   "source": [
    "pkl_rnd_tree_208_file = \"./rnd_tree_208.pkl\"\n",
    "rnd_tree_208 = rnd_tree_model(dim = 208, n_estimators=80, random_state=17)\n",
    "performance_spd(rnd_tree_208, dim = 208)\n",
    "performance_loss(rnd_tree_208, csv_path=\"../ParamSpMM-log/\", dim = 208)\n",
    "with open(pkl_rnd_tree_208_file, 'wb') as f:\n",
    "    pickle.dump(rnd_tree_208, f)"
   ]
  },
  {
   "cell_type": "code",
   "execution_count": 20,
   "metadata": {},
   "outputs": [
    {
     "name": "stdout",
     "output_type": "stream",
     "text": [
      "Test score: 0.8048780487804879\n",
      "Average speedup of ParamSpMM over cusparse:  1.7529066170207892\n",
      "dim224 Wrong number8 in 41\n",
      "Average normalized performance:  0.9967410365842951\n"
     ]
    }
   ],
   "source": [
    "pkl_rnd_tree_224_file = \"./rnd_tree_224.pkl\"\n",
    "rnd_tree_224 = rnd_tree_model(dim = 224, n_estimators=80, random_state=17)\n",
    "performance_spd(rnd_tree_224, dim = 224)\n",
    "performance_loss(rnd_tree_224, csv_path=\"../ParamSpMM-log/\", dim = 224)\n",
    "with open(pkl_rnd_tree_224_file, 'wb') as f:\n",
    "    pickle.dump(rnd_tree_224, f)"
   ]
  },
  {
   "cell_type": "code",
   "execution_count": 21,
   "metadata": {},
   "outputs": [
    {
     "name": "stdout",
     "output_type": "stream",
     "text": [
      "Test score: 0.7317073170731707\n",
      "Average speedup of ParamSpMM over cusparse:  1.874424849659235\n",
      "dim240 Wrong number11 in 41\n",
      "Average normalized performance:  0.9919023974157288\n"
     ]
    }
   ],
   "source": [
    "pkl_rnd_tree_240_file = \"./rnd_tree_240.pkl\"\n",
    "rnd_tree_240 = rnd_tree_model(dim = 240, n_estimators=30, random_state=17)\n",
    "performance_spd(rnd_tree_240, dim = 240)\n",
    "performance_loss(rnd_tree_240, csv_path=\"../ParamSpMM-log/\", dim = 240)\n",
    "with open(pkl_rnd_tree_240_file, 'wb') as f:\n",
    "    pickle.dump(rnd_tree_240, f)"
   ]
  },
  {
   "cell_type": "code",
   "execution_count": 28,
   "metadata": {},
   "outputs": [
    {
     "name": "stdout",
     "output_type": "stream",
     "text": [
      "Test score: 0.7073170731707317\n",
      "Average speedup of ParamSpMM over cusparse:  1.9311552764911122\n",
      "dim256 Wrong number12 in 41\n",
      "Average normalized performance:  0.9875003393276511\n"
     ]
    }
   ],
   "source": [
    "pkl_rnd_tree_256_file = \"./rnd_tree_256.pkl\"\n",
    "rnd_tree_256 = rnd_tree_model(dim = 256, n_estimators=80, random_state=17)\n",
    "performance_spd(rnd_tree_256, dim = 256)\n",
    "performance_loss(rnd_tree_256, csv_path=\"../ParamSpMM-log/\", dim = 256)\n",
    "with open(pkl_rnd_tree_256_file, 'wb') as f:\n",
    "    pickle.dump(rnd_tree_256, f)"
   ]
  }
 ],
 "metadata": {
  "kernelspec": {
   "display_name": "GNNsys",
   "language": "python",
   "name": "python3"
  },
  "language_info": {
   "codemirror_mode": {
    "name": "ipython",
    "version": 3
   },
   "file_extension": ".py",
   "mimetype": "text/x-python",
   "name": "python",
   "nbconvert_exporter": "python",
   "pygments_lexer": "ipython3",
   "version": "3.9.17"
  },
  "orig_nbformat": 4
 },
 "nbformat": 4,
 "nbformat_minor": 2
}
